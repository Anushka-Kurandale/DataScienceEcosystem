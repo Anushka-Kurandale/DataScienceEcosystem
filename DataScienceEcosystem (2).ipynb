{
 "cells": [
  {
   "cell_type": "markdown",
   "id": "d4d6e625-2086-44c6-b7a3-57e1b3b17fae",
   "metadata": {
    "tags": []
   },
   "source": [
    "# Data Science Tools and Ecosystem\n"
   ]
  },
  {
   "cell_type": "markdown",
   "id": "15970fc2-250e-40ce-95a4-3a626247cffa",
   "metadata": {},
   "source": [
    "# In this notebook, Data Science Tools and Ecosystem are summarized."
   ]
  },
  {
   "cell_type": "markdown",
   "id": "e912440f-02d3-463c-8d46-0558aa6038a8",
   "metadata": {},
   "source": [
    "# Some of the most popular languages that Data Scientists use are: \n",
    "1. Python\n",
    "2. R language\n",
    "3. SQL"
   ]
  },
  {
   "cell_type": "markdown",
   "id": "9200b6dc-1054-41a4-afbb-2a9846ae53fc",
   "metadata": {},
   "source": [
    "# Some of the commonly used libraries used by Data Scientists include:\n",
    "1. pandas\n",
    "2. numpy\n",
    "3. matplotlib"
   ]
  },
  {
   "cell_type": "markdown",
   "id": "7a8042db-c8dd-455e-a3d9-05a28d81d846",
   "metadata": {},
   "source": [
    "| Data Science Tools  |\n",
    "|----------|\n",
    "| SELDON  |\n",
    "| kubernets    |\n",
    "| mleap    |"
   ]
  },
  {
   "cell_type": "markdown",
   "id": "f33038f1-1879-4e38-a884-7562ba8c72e6",
   "metadata": {},
   "source": [
    "### Below are few examples of evaluating arithmetic expression in Python."
   ]
  },
  {
   "cell_type": "code",
   "execution_count": 1,
   "id": "820b0a43-a33a-46d7-9366-e8299959c84a",
   "metadata": {
    "tags": []
   },
   "outputs": [
    {
     "name": "stdout",
     "output_type": "stream",
     "text": [
      "30\n"
     ]
    }
   ],
   "source": [
    "a = 10\n",
    "b = 20\n",
    "print(a+b)"
   ]
  },
  {
   "cell_type": "code",
   "execution_count": 2,
   "id": "4dc22fa2-8ba8-4e66-9b90-d32234ec4b46",
   "metadata": {
    "tags": []
   },
   "outputs": [
    {
     "name": "stdout",
     "output_type": "stream",
     "text": [
      "2.0\n"
     ]
    }
   ],
   "source": [
    "x = 8\n",
    "y = 4\n",
    "print(x/y)"
   ]
  },
  {
   "cell_type": "code",
   "execution_count": 3,
   "id": "195161b3-1cf5-48f4-96e7-f55da4dfcd7c",
   "metadata": {
    "tags": []
   },
   "outputs": [
    {
     "name": "stdout",
     "output_type": "stream",
     "text": [
      "17\n"
     ]
    }
   ],
   "source": [
    "#This is a simple arithmetic expression to multiply then add integers .\n",
    "a = (3*4)+5\n",
    "print(a)"
   ]
  },
  {
   "cell_type": "code",
   "execution_count": 4,
   "id": "80ebb827-0547-43e1-bd47-b1f3853aeb2b",
   "metadata": {
    "tags": []
   },
   "outputs": [
    {
     "name": "stdout",
     "output_type": "stream",
     "text": [
      "3.3333333333333335\n"
     ]
    }
   ],
   "source": [
    "# This will convert 200 minutes to hours by dividing by 60.\n",
    "minutes = 200\n",
    "hours = minutes/60\n",
    "print(hours)"
   ]
  },
  {
   "cell_type": "markdown",
   "id": "a6928c1f-aa1c-4c91-81c6-583c7a32395b",
   "metadata": {},
   "source": [
    "**Objectives:**\n",
    "- List popular languages for Data Science\n",
    "- List commonly used Libraries used by Data Scientists\n",
    "- Data Science Tools\n",
    "-  evaluation of Arithmetic Expressions in Python\n",
    "- convert minutes to hours in Python"
   ]
  },
  {
   "cell_type": "markdown",
   "id": "08b7c046-d265-4f3f-94c6-dc056d79dc4d",
   "metadata": {
    "tags": []
   },
   "source": [
    "## Author\n",
    "Anushka Kurandale"
   ]
  },
  {
   "cell_type": "code",
   "execution_count": null,
   "id": "841b08a8-c468-43f5-bce3-6633163a9928",
   "metadata": {},
   "outputs": [],
   "source": []
  }
 ],
 "metadata": {
  "kernelspec": {
   "display_name": "Python",
   "language": "python",
   "name": "conda-env-python-py"
  },
  "language_info": {
   "codemirror_mode": {
    "name": "ipython",
    "version": 3
   },
   "file_extension": ".py",
   "mimetype": "text/x-python",
   "name": "python",
   "nbconvert_exporter": "python",
   "pygments_lexer": "ipython3",
   "version": "3.7.12"
  }
 },
 "nbformat": 4,
 "nbformat_minor": 5
}
